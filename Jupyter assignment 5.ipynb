{
 "cells": [
  {
   "cell_type": "code",
   "execution_count": 3,
   "metadata": {},
   "outputs": [],
   "source": [
    "from sklearn.datasets import load_wine\n",
    "from sklearn import preprocessing\n",
    "import numpy as np\n",
    "from matplotlib import pyplot as plt \n",
    "samples, labels = load_wine(return_X_y=True)\n",
    "N = 178"
   ]
  },
  {
   "cell_type": "code",
   "execution_count": 4,
   "metadata": {},
   "outputs": [],
   "source": [
    "# Computation of the empirical mean of data, both as a vector and as a tiled matrix\n",
    "mean_vec = samples.mean(axis = 1)\n",
    "mean_mat = np.tile(mean_vec.reshape(samples.shape[0],1),[1,samples.shape[1]])\n",
    "\n",
    "# Centered data matrix\n",
    "centered_X = samples - mean_mat\n"
   ]
  },
  {
   "cell_type": "code",
   "execution_count": 5,
   "metadata": {},
   "outputs": [
    {
     "data": {
      "image/png": "[encoded data removed]",
      "text/plain": [
       "<matplotlib.figure.Figure at 0x66d47b8>"
      ]
     },
     "metadata": {},
     "output_type": "display_data"
    }
   ],
   "source": [
    "# Singular value decomposition of centered data\n",
    "U, s, Vh = np.linalg.svd(centered_X)\n",
    "\n",
    "# Matrix of the top two principal components of the centered data matrix\n",
    "U_2 = U[:,0:2]\n",
    "\n",
    "# Compute the PCA-based features of the centered data using the top-two principal components\n",
    "# PCA Features\n",
    "X_tilde = U_2.T\n",
    "\n",
    "# Scatter plot for labels '0' and '1' and '2' using the two-dimensional PCA features\n",
    "plt.scatter(X_tilde.T[np.where(labels==0),0],X_tilde.T[np.where(labels==0),1],c='r',marker='s')\n",
    "plt.scatter(X_tilde.T[np.where(labels==1),0],X_tilde.T[np.where(labels==1),1],c='g',marker='^')\n",
    "plt.scatter(X_tilde.T[np.where(labels==2),0],X_tilde.T[np.where(labels==2),1],c='b',marker='o')\n",
    "\n",
    "plt.show()"
   ]
  },
  {
   "cell_type": "code",
   "execution_count": 6,
   "metadata": {},
   "outputs": [],
   "source": [
    "# Computation of the empirical mean of data, both as a vector and as a tiled matrix\n",
    "var_vec = centered_X.std(axis = 1)\n",
    "var_mat = np.tile(var_vec.reshape(centered_X.shape[0],1),[1,centered_X.shape[1]])\n",
    "\n",
    "standardized_X = centered_X/var_mat\n"
   ]
  },
  {
   "cell_type": "code",
   "execution_count": 7,
   "metadata": {},
   "outputs": [
    {
     "name": "stdout",
     "output_type": "stream",
     "text": [
      "(2L, 178L)\n"
     ]
    },
    {
     "data": {
      "image/png": "[encoded data removed]",
      "text/plain": [
       "<matplotlib.figure.Figure at 0x68222b0>"
      ]
     },
     "metadata": {},
     "output_type": "display_data"
    }
   ],
   "source": [
    "# Singular value decomposition of standardized data\n",
    "U_stan, s_stan, Vh_stan = np.linalg.svd(standardized_X)\n",
    "\n",
    "# Matrix of the top two principal components of the centered data matrix\n",
    "U_stan_2 = U_stan[:,0:2]\n",
    "\n",
    "# Compute the PCA-based features of the centered data using the top-two principal components\n",
    "# PCA Features\n",
    "X_stan_tilde = U_stan_2.T\n",
    "print(X_stan_tilde.shape)\n",
    "\n",
    "# Scatter plot for labels '0' and '1' and '2' using the two-dimensional PCA features\n",
    "plt.scatter(X_stan_tilde.T[np.where(labels==0),0],X_stan_tilde.T[np.where(labels==0),1],c='r',marker='s')\n",
    "plt.scatter(X_stan_tilde.T[np.where(labels==1),0],X_stan_tilde.T[np.where(labels==1),1],c='g',marker='^')\n",
    "plt.scatter(X_stan_tilde.T[np.where(labels==2),0],X_stan_tilde.T[np.where(labels==2),1],c='b',marker='o')\n",
    "\n",
    "plt.show()"
   ]
  },
  {
   "cell_type": "markdown",
   "metadata": {},
   "source": [
    "## Naive Bayes Classsification"
   ]
  },
  {
   "cell_type": "code",
   "execution_count": 30,
   "metadata": {},
   "outputs": [],
   "source": [
    "#print(X_stan_tilde.T)\n",
    "#print(labels.shape)"
   ]
  },
  {
   "cell_type": "code",
   "execution_count": 43,
   "metadata": {},
   "outputs": [],
   "source": [
    "# Calculate the gaussian probability density function:\n",
    "\n",
    "def calculateProbability(x, mean, stdev):\n",
    "    exponent = math.exp(-(math.pow(x-mean,2)/(2*math.pow(stdev,2))))\n",
    "    return (1/(math.sqrt(2*math.pi)*stdev))*exponent\n",
    "\n"
   ]
  },
  {
   "cell_type": "code",
   "execution_count": 34,
   "metadata": {},
   "outputs": [
    {
     "name": "stdout",
     "output_type": "stream",
     "text": [
      "Counter({1: 71, 0: 59, 2: 48})\n",
      "0.331460674157\n",
      "0.398876404494\n",
      "0.269662921348\n"
     ]
    }
   ],
   "source": [
    "# Prior probability for labels 0,1 and 2\n",
    "import collections\n",
    "from __future__ import division\n",
    "count_list = collections.Counter(labels) \n",
    "print(count_list)\n",
    "\n",
    "# prior probability for label 0: no. of label 0 objects/ total number of objects\n",
    "prior_0 = count_list[0]/178\n",
    "print(prior_0)\n",
    "\n",
    "prior_1 = count_list[1]/178\n",
    "print(prior_1)\n",
    "\n",
    "prior_2 = count_list[2]/178\n",
    "print(prior_2)"
   ]
  },
  {
   "cell_type": "code",
   "execution_count": 35,
   "metadata": {},
   "outputs": [],
   "source": [
    "# Likelihood functions\n",
    "# likelihood of X given label 0, likelihood of X given label 1, likelihood of X given label 2\n",
    "# likelihood of X given label 0 = no. of label 0's in the vicinity of X / Total number of label 0's\n"
   ]
  },
  {
   "cell_type": "code",
   "execution_count": 36,
   "metadata": {},
   "outputs": [],
   "source": [
    "# Posterior  = Prior x Likelihood"
   ]
  },
  {
   "cell_type": "code",
   "execution_count": 44,
   "metadata": {},
   "outputs": [
    {
     "name": "stdout",
     "output_type": "stream",
     "text": [
      "Counter({1: 0.398876404494382, 0: 0.33146067415730335, 2: 0.2696629213483146})\n"
     ]
    }
   ],
   "source": [
    "\n",
    "# we begin by calculating prior probabilities for the two classes:\n",
    "from __future__ import division\n",
    "import collections\n",
    "def occurrences(labels):\n",
    "    no_of_examples = len(labels)\n",
    "    prob = collections.Counter(labels)\n",
    "    for key in prob.keys():\n",
    "        prob[key] = prob[key] / float(no_of_examples)\n",
    "    return prob\n",
    "\n",
    "print(occurrences(labels))"
   ]
  },
  {
   "cell_type": "code",
   "execution_count": 45,
   "metadata": {},
   "outputs": [
    {
     "name": "stdout",
     "output_type": "stream",
     "text": [
      "{0: 0.33146067415730335, 1: 0.398876404494382, 2: 0.2696629213483146}\n"
     ]
    }
   ],
   "source": [
    "from __future__ import division\n",
    "def naive_bayes(training, labels, new_sample):\n",
    "    # get all labels\n",
    "    classes     = np.unique(labels)\n",
    "    # get the number of data smaples and the number of features\n",
    "    rows, cols  = np.shape(training)\n",
    "    likelihoods = {}\n",
    "    for cls in classes:\n",
    "        likelihoods[cls] = collections.defaultdict(list)\n",
    "  \n",
    "    # PRIOR PROBABILITY\n",
    "    class_probabilities = occurrences(labels)\n",
    "  \n",
    "    for cls in classes:\n",
    "        row_indices = np.where(labels == cls)[0]\n",
    "        subset      = training[row_indices, :]\n",
    "        r, c        = np.shape(subset)\n",
    "        for j in range(0,c):\n",
    "            likelihoods[cls][j] += list(subset[:,j])\n",
    "  \n",
    "    for cls in classes:\n",
    "        for j in range(0,cols):\n",
    "             likelihoods[cls][j] = occurrences(likelihoods[cls][j])\n",
    "                \n",
    "    #print(likelihoods)\n",
    "    results = {}\n",
    "    for cls in classes:\n",
    "        class_probability = class_probabilities[cls]\n",
    "        for i in range(0,len(new_sample)):\n",
    "            relative_values = likelihoods[cls][i]\n",
    "            if new_sample[i] in relative_values.keys():\n",
    "                    class_probability = class_probability * relative_values[new_sample[i]]\n",
    "            #else:\n",
    "                 #class_probability = class_probability * 0\n",
    "            results[cls] = class_probability\n",
    "    #print results\n",
    "    return(results)\n",
    "\n",
    "\n",
    "training = X_stan_tilde.T\n",
    "new_sample = np.asarray([ -0.07495661 -0.07357057])\n",
    "print(naive_bayes(training, labels, new_sample))"
   ]
  },
  {
   "cell_type": "code",
   "execution_count": 46,
   "metadata": {},
   "outputs": [],
   "source": [
    "from random import randrange\n",
    " \n",
    "# Split a dataset into k folds\n",
    "def k_fold_cross_validation_split(dataset, folds=5):\n",
    "    for i in range(folds):\n",
    "    return dataset_split"
   ]
  },
  {
   "cell_type": "code",
   "execution_count": 52,
   "metadata": {},
   "outputs": [
    {
     "name": "stdout",
     "output_type": "stream",
     "text": [
      "\n",
      "\n",
      "[[array([-0.07506955,  0.01323253]), array([-0.07491794, -0.085142  ]), array([-0.07485832,  0.10121977]), array([-0.07506028, -0.02403844]), array([-0.0749898 ,  0.06286997]), array([-0.07489228, -0.0914194 ]), array([-0.07494584, -0.07242182]), array([-0.07493387, -0.0810425 ]), array([-0.07503905,  0.04039911]), array([-0.07506065,  0.02013416]), array([-0.07506686,  0.01300665]), array([-0.07495305,  0.07580041]), array([-0.07506585,  0.01631187]), array([-0.07487154,  0.09808441]), array([-0.07506428, -0.02050516]), array([-0.07491382, -0.08650638]), array([-0.07488147, -0.09445186]), array([-0.0748983,  0.0913425]), array([-0.07493632,  0.08080855]), array([-0.07503656, -0.03425044]), array([-0.07500187, -0.05769434]), array([-0.07493163,  0.08192454]), array([-0.0750661 , -0.00771708]), array([-0.07483785,  0.1059126 ]), array([-0.07503895,  0.03960536]), array([-0.07507311,  0.00089085]), array([-0.07503579, -0.03805882]), array([-0.07503912,  0.03915661]), array([-0.07497194, -0.06920053]), array([-0.07503064,  0.04429978]), array([-0.07506355,  0.02097145]), array([-0.07507264, -0.00434671]), array([-0.07506664,  0.01599528]), array([-0.07502861,  0.04616434]), array([-0.07481334,  0.11128283])], [array([-0.0750394 , -0.03873761]), array([-0.07505493,  0.0295585 ]), array([-0.07503052,  0.04489721]), array([-0.07500307,  0.05749538]), array([-0.07498173, -0.0656192 ]), array([-0.07505177,  0.03118537]), array([-0.0750716 , -0.00875218]), array([-0.07480988,  0.11201604]), array([-0.07506978,  0.0098362 ]), array([-0.07500696, -0.0559452 ]), array([-0.07456896, -0.15451965]), array([-0.07489484, -0.09214712]), array([-0.07506398, -0.02025117]), array([-0.07503395, -0.04046681]), array([-0.07502479, -0.04669201]), array([-0.07488908,  0.0936977 ]), array([-0.07505044, -0.03163263]), array([-0.07506744, -0.01176958]), array([-0.07499748,  0.06018894]), array([-0.07505362, -0.03053791]), array([-0.07502966, -0.04478517]), array([-0.07507086,  0.00742758]), array([-0.07501674, -0.05080355]), array([-0.07493879,  0.08011107]), array([-0.07496589, -0.07131854]), array([-0.0749837 ,  0.06533036]), array([-0.07484824,  0.10356081]), array([-0.07493328,  0.08170941]), array([-0.07505667, -0.01574822]), array([-0.07488489, -0.0942544 ]), array([-0.07498228, -0.06088445]), array([-0.0750724 ,  0.00618876]), array([-0.07501312,  0.05351831]), array([-0.07497175,  0.06962902]), array([-0.07491655,  0.08646385])], [array([-0.07493246, -0.08087242]), array([-0.07497238,  0.06931094]), array([-0.075047  , -0.03489715]), array([-0.07486486,  0.09953089]), array([-0.07506265,  0.01428442]), array([-0.07507049, -0.00934565]), array([-0.07507129, -0.00794264]), array([-0.07505806,  0.02406078]), array([-0.07489048,  0.09334681]), array([-0.07502347,  0.04754462]), array([-0.07506174,  0.02337441]), array([-0.07483945, -0.10349453]), array([-0.07504721,  0.03401309]), array([-0.07437823, -0.18099302]), array([-0.07501505,  0.05255544]), array([-0.07483919,  0.10561669]), array([-0.07501585,  0.05212076]), array([-0.07503955,  0.03925276]), array([-0.07505561, -0.02756005]), array([-0.07493436, -0.07964502]), array([-0.07495661, -0.07357057]), array([-0.07504541,  0.03567546]), array([-0.07505536, -0.02598136]), array([-0.07492172, -0.08473567]), array([-0.07493649, -0.08002118]), array([-0.07477488,  0.11922427]), array([-0.07469092, -0.13390086]), array([-0.07485329,  0.1023626 ]), array([-0.07496761,  0.07101261]), array([-0.07483829,  0.10581895]), array([-0.07494462,  0.07826997]), array([-0.07486577,  0.09938107]), array([-0.07506096,  0.02163461]), array([-0.07506079,  0.02142997]), array([-0.07500864, -0.05249629])], [array([-0.07415739, -0.20812922]), array([-0.07492894,  0.08288933]), array([-0.07443402, -0.17397513]), array([-0.07477067, -0.11951851]), array([-0.07490283, -0.08884119]), array([-0.07500362,  0.05314247]), array([-0.07493862,  0.0801365 ]), array([-0.07502768, -0.04427486]), array([-0.07505368,  0.03050875]), array([-0.07507203, -0.00423024]), array([-0.07507224,  0.00270052]), array([-0.07506737,  0.0111204 ]), array([-0.07507217,  0.00578816]), array([-0.07506507, -0.00602468]), array([-0.07427915, -0.19369762]), array([-0.07491099, -0.08659961]), array([-0.07507148,  0.00024809]), array([-0.07494849,  0.07710083]), array([-0.07505303, -0.0297135 ]), array([-0.07503   , -0.04252026]), array([-0.07502167,  0.04967304]), array([-0.07489834,  0.09132688]), array([-0.07506492,  0.0076819 ]), array([-0.07489741,  0.09158756]), array([-0.07478251,  0.11764244]), array([-0.07505669, -0.02352185]), array([-0.07506667,  0.01539593]), array([-0.0742029 , -0.20288408]), array([-0.07503167,  0.04450393]), array([-0.0749744 , -0.06704225]), array([-0.07493171,  0.0820439 ]), array([-0.07503492, -0.04265014]), array([-0.07495415,  0.07531972]), array([-0.07507265, -0.00424873]), array([-0.07497507,  0.06845506])], [array([-0.07435904, -0.18387485]), array([-0.07504587,  0.03431299]), array([-0.07507209, -0.00070126]), array([-0.07505135, -0.02367092]), array([-0.07465852, -0.13892246]), array([-0.07505999,  0.02493931]), array([-0.07490734,  0.08886897]), array([-0.0750565 ,  0.02808349]), array([-0.07504741,  0.03426592]), array([-0.07505773, -0.01907937]), array([-0.07505985, -0.02113833]), array([-0.07507187,  0.00477071]), array([-0.07476208, -0.12076852]), array([-0.07494373, -0.0756756 ]), array([-0.07501169, -0.05203229]), array([-0.0748781 , -0.09516082]), array([-0.07507231, -0.00377589]), array([-0.07506965, -0.00705374]), array([-0.0749788 ,  0.06717276]), array([-0.0750621 , -0.02014551]), array([-0.07494026,  0.07918604]), array([-0.07448307, -0.16657101]), array([-0.07493658,  0.08065532]), array([-0.07506579, -0.01758597]), array([-0.07486021,  0.10061026]), array([-0.07503626,  0.03760506]), array([-0.07506735,  0.00972463]), array([-0.07500284,  0.05648547]), array([-0.07506643,  0.01461518]), array([-0.07507125,  0.00084215]), array([-0.07479656,  0.11480377]), array([-0.07506111,  0.02339521]), array([-0.07506522,  0.01787682]), array([-0.07506498, -0.01561639]), array([-0.07447062, -0.16848906])]]\n"
     ]
    }
   ],
   "source": [
    "# k fold on centered data only\n",
    "# case 1\n",
    "training2 = k_fold_cross_validation_split(X_tilde.T)\n",
    "\n",
    "print(\"\\n\")\n",
    "\n",
    "# case 2\n",
    "# k fold on standardized data\n",
    "print(k_fold_cross_validation_split(X_stan_tilde.T))\n"
   ]
  },
  {
   "cell_type": "code",
   "execution_count": 78,
   "metadata": {},
   "outputs": [],
   "source": [
    "new_sample = np.asarray([ -0.07495661 -0.07357057])\n",
    "training_k = np.asarray(training2[0])\n",
    "\n",
    "#print(naive_bayes(training_k, labels, new_sample))"
   ]
  },
  {
   "cell_type": "code",
   "execution_count": 74,
   "metadata": {},
   "outputs": [
    {
     "name": "stdout",
     "output_type": "stream",
     "text": [
      "<type 'numpy.ndarray'>\n"
     ]
    }
   ],
   "source": [
    "print(type(X_stan_tilde.T[1]))"
   ]
  },
  {
   "cell_type": "code",
   "execution_count": null,
   "metadata": {},
   "outputs": [],
   "source": []
  }
 ],
 "metadata": {
  "kernelspec": {
   "display_name": "Python 2",
   "language": "python",
   "name": "python2"
  },
  "language_info": {
   "codemirror_mode": {
    "name": "ipython",
    "version": 2
   },
   "file_extension": ".py",
   "mimetype": "text/x-python",
   "name": "python",
   "nbconvert_exporter": "python",
   "pygments_lexer": "ipython2",
   "version": "2.7.14"
  }
 },
 "nbformat": 4,
 "nbformat_minor": 2
}
