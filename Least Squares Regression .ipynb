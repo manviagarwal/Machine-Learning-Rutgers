{
 "cells": [
  {
   "cell_type": "code",
   "execution_count": 251,
   "metadata": {},
   "outputs": [],
   "source": [
    "# imports\n",
    "%matplotlib inline\n",
    "from sklearn.datasets import load_boston\n",
    "#import matplotlib.pyplot as plt\n",
    "import numpy as np\n",
    "import pandas as pd\n",
    "from numpy.linalg import inv\n",
    "import matplotlib.pyplot as plt"
   ]
  },
  {
   "cell_type": "code",
   "execution_count": 252,
   "metadata": {},
   "outputs": [
    {
     "name": "stdout",
     "output_type": "stream",
     "text": [
      "(506L, 14L)\n",
      "[[6.3200e-03 1.8000e+01 2.3100e+00 ... 3.9690e+02 4.9800e+00 1.0000e+00]\n",
      " [2.7310e-02 0.0000e+00 7.0700e+00 ... 3.9690e+02 9.1400e+00 1.0000e+00]\n",
      " [2.7290e-02 0.0000e+00 7.0700e+00 ... 3.9283e+02 4.0300e+00 1.0000e+00]\n",
      " ...\n",
      " [6.0760e-02 0.0000e+00 1.1930e+01 ... 3.9690e+02 5.6400e+00 1.0000e+00]\n",
      " [1.0959e-01 0.0000e+00 1.1930e+01 ... 3.9345e+02 6.4800e+00 1.0000e+00]\n",
      " [4.7410e-02 0.0000e+00 1.1930e+01 ... 3.9690e+02 7.8800e+00 1.0000e+00]]\n"
     ]
    }
   ],
   "source": [
    "(data,target) = load_boston(return_X_y=True)\n",
    "\n",
    "ones = np.ones((506,14))\n",
    "print(ones.shape)\n",
    "for i in range(0,506):\n",
    "    for j in range(0,13):\n",
    "        ones[i,j] = data[i,j]\n",
    "data = ones\n",
    "print(data)"
   ]
  },
  {
   "cell_type": "code",
   "execution_count": 253,
   "metadata": {},
   "outputs": [
    {
     "name": "stdout",
     "output_type": "stream",
     "text": [
      "(106L, 14L)\n",
      "(106L,)\n"
     ]
    }
   ],
   "source": [
    "# split into train and test\n",
    "# initial testing and train without cross validation\n",
    "training_data = data[0:400]\n",
    "training_labels = target[0:400]\n",
    "testing_data = data[400:507]\n",
    "testing_labels = target[400:507]\n",
    "\n",
    "print(testing_data.shape)\n",
    "print(testing_labels.shape)"
   ]
  },
  {
   "cell_type": "code",
   "execution_count": 254,
   "metadata": {},
   "outputs": [],
   "source": [
    "#print(data.T)\n",
    "def LSRegression(new_data,training_labels):\n",
    "    multi = np.matmul(new_data.T,new_data)\n",
    "    multi_inv = inv(multi)\n",
    "    multi_2 = np.matmul(multi_inv,new_data.T)\n",
    "    final = np.matmul(multi_2,training_labels)\n",
    "    y_hat = np.matmul(new_data,final)\n",
    "    #print(y_hat.shape)\n",
    "    #print(y_hat)\n",
    "    return(y_hat)\n",
    "def LSRegression_w(new_data,training_labels):\n",
    "    multi = np.matmul(new_data.T,new_data)\n",
    "    multi_inv = inv(multi)\n",
    "    multi_2 = np.matmul(multi_inv,new_data.T)\n",
    "    w_hat = np.matmul(multi_2,training_labels)\n",
    "    #print(\"what shape\",w_hat.shape)\n",
    "    return(w_hat)\n",
    "\n",
    "    \n",
    "    "
   ]
  },
  {
   "cell_type": "code",
   "execution_count": 255,
   "metadata": {},
   "outputs": [],
   "source": [
    "def LSError(actual,predicted):\n",
    "    error = np.linalg.norm(actual-predicted,2)**2\n",
    "    return error\n"
   ]
  },
  {
   "cell_type": "code",
   "execution_count": 256,
   "metadata": {},
   "outputs": [
    {
     "name": "stdout",
     "output_type": "stream",
     "text": [
      "4045.419896184194\n"
     ]
    }
   ],
   "source": [
    "print(LSError(testing_labels,np.matmul(testing_data,LSRegression_w(training_data,training_labels))))"
   ]
  },
  {
   "cell_type": "code",
   "execution_count": 261,
   "metadata": {},
   "outputs": [
    {
     "name": "stdout",
     "output_type": "stream",
     "text": [
      "('Average error is', 37.17394602167429)\n"
     ]
    },
    {
     "data": {
      "image/png": "[encoded data removed]",
      "text/plain": [
       "<matplotlib.figure.Figure at 0xc1d1908>"
      ]
     },
     "metadata": {},
     "output_type": "display_data"
    }
   ],
   "source": [
    "# CROSS VALIDATION SPLIT\n",
    "import random\n",
    "# create a split\n",
    "split_labels = np.array_split(target,5)\n",
    "#print(split_labels[1].shape)\n",
    "color = ['ro','bo','go','yo','co']\n",
    "legend = [\"Fold 1\",\"Fold 2\",\"Fold 3\",\"Fold 4\", \"Fold 5\"]\n",
    "split = np.array_split(data, 5)\n",
    "sum_error = 0\n",
    "# take one as test and the rest take as training\n",
    "for i in range(5):\n",
    "    \n",
    "    training_data_cv = []\n",
    "    test_data_cv = split[i]\n",
    "    training_labels_cv = []\n",
    "    test_labels_cv = split_labels[i]\n",
    "    \n",
    "    for j in range(5):\n",
    "        if j!=i:\n",
    "            training_data_cv.extend(split[j].tolist())\n",
    "            training_labels_cv.extend(split_labels[j].tolist())\n",
    "    training_data_cv = np.asarray(training_data_cv)\n",
    "    training_labels_cv = np.asarray(training_labels_cv)\n",
    "    #print(training_labels_cv.shape)\n",
    "    # now that we have train and test data we have to call our LS Error from this\n",
    "    \n",
    "    #####\n",
    "    #print(\"LS error using w hat \", LSError(test_labels_cv,np.matmul(test_data_cv,LSRegression_w(training_data_cv,training_labels_cv))))\n",
    "\n",
    "    #print(\"LS error \", LSError(training_labels_cv,LSRegression(training_data_cv,training_labels_cv)))\n",
    "    sum_error = sum_error + LSError(test_labels_cv,np.matmul(test_data_cv,LSRegression_w(training_data_cv,training_labels_cv)))\n",
    "\n",
    "    plt.plot(test_labels_cv,np.matmul(test_data_cv,LSRegression_w(training_data_cv,training_labels_cv)),color[i],label = legend[i])\n",
    "    plt.xlabel('Actual')\n",
    "    plt.ylabel('Predicted')\n",
    "\n",
    "    #Line with slope=1\n",
    "    x = np.linspace(-2,12,100)\n",
    "    y = x\n",
    "    plt.legend()\n",
    "    plt.plot(x,y)\n",
    "\n",
    "print(\"Average error is\", sum_error/506)"
   ]
  },
  {
   "cell_type": "code",
   "execution_count": 258,
   "metadata": {},
   "outputs": [],
   "source": [
    "# RIDGE REGRESSION\n",
    "def RR_special_case(training_data,training_labels,reg):\n",
    "    rdg = LSRegression(training_data,training_labels)/(1+reg)\n",
    "    return rdg\n",
    "\n",
    "def RError(actual,predicted):\n",
    "    error = np.linalg.norm(actual-predicted,2)**2\n",
    "    return error\n",
    "\n",
    "#Calculate w for training set- Ridge Regression\n",
    "def RR(trainData,trainLabels,regParam):\n",
    "    ridgeA = np.linalg.inv(np.matmul(trainData.T,trainData))\n",
    "    identity = np.identity(len(ridgeA))\n",
    "    ridge = np.matmul(np.matmul(np.linalg.inv(np.matmul(trainData.T,trainData) + (regParam*identity)),trainData.T),trainLabels)\n",
    "    #print(ridge.shape)\n",
    "    return ridge\n",
    "\n",
    "#Calculate w for training set- Ridge Regression\n",
    "\n",
    "\n",
    "\n"
   ]
  },
  {
   "cell_type": "code",
   "execution_count": 260,
   "metadata": {},
   "outputs": [
    {
     "name": "stdout",
     "output_type": "stream",
     "text": [
      "('Average error is', 33.74219618483561)\n"
     ]
    }
   ],
   "source": [
    "# CROSS VALIDATION SPLIT\n",
    "import random\n",
    "# create a split\n",
    "split_labels = np.array_split(target,5)\n",
    "#print(split_labels[1].shape)\n",
    "\n",
    "split = np.array_split(data, 5)\n",
    "sum_error = 0\n",
    "# take one as test and the rest take as training\n",
    "for i in range(5):\n",
    "    training_data_cv = []\n",
    "    test_data_cv = split[i]\n",
    "    training_labels_cv = []\n",
    "    test_labels_cv = split_labels[i]\n",
    "    \n",
    "    for j in range(5):\n",
    "        if j!=i:\n",
    "            training_data_cv.extend(split[j].tolist())\n",
    "            training_labels_cv.extend(split_labels[j].tolist())\n",
    "    training_data_cv = np.asarray(training_data_cv)\n",
    "    training_labels_cv = np.asarray(training_labels_cv)\n",
    "    #print(training_labels_cv.shape)\n",
    "    # now that we have train and test data we have to call our LS Error from this\n",
    "    \n",
    "    #print(\"RR error using w hat \", RError(test_labels_cv,np.matmul(test_data_cv,RR(training_data_cv,training_labels_cv,1))))\n",
    "\n",
    "    #print(\"LS error \", RError(training_labels_cv,RR(training_data_cv,training_labels_cv,1)))\n",
    "    sum_error = sum_error + RError(test_labels_cv,np.matmul(test_data_cv,RR(training_data_cv,training_labels_cv,1)))\n",
    "\n",
    "\n",
    "print(\"Average error is\", sum_error/506)"
   ]
  },
  {
   "cell_type": "code",
   "execution_count": null,
   "metadata": {},
   "outputs": [],
   "source": []
  },
  {
   "cell_type": "code",
   "execution_count": null,
   "metadata": {},
   "outputs": [],
   "source": []
  },
  {
   "cell_type": "code",
   "execution_count": null,
   "metadata": {},
   "outputs": [],
   "source": []
  }
 ],
 "metadata": {
  "kernelspec": {
   "display_name": "Python 2",
   "language": "python",
   "name": "python2"
  },
  "language_info": {
   "codemirror_mode": {
    "name": "ipython",
    "version": 2
   },
   "file_extension": ".py",
   "mimetype": "text/x-python",
   "name": "python",
   "nbconvert_exporter": "python",
   "pygments_lexer": "ipython2",
   "version": "2.7.14"
  }
 },
 "nbformat": 4,
 "nbformat_minor": 2
}
