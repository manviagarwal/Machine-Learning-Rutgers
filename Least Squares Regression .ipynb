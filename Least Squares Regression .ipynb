{
 "cells": [
  {
   "cell_type": "code",
   "execution_count": 134,
   "metadata": {},
   "outputs": [],
   "source": [
    "# imports\n",
    "%matplotlib inline\n",
    "from sklearn.datasets import load_boston\n",
    "#import matplotlib.pyplot as plt\n",
    "import numpy as np\n",
    "import pandas as pd\n",
    "from numpy.linalg import inv\n",
    "import matplotlib.pyplot as plt"
   ]
  },
  {
   "cell_type": "code",
   "execution_count": 135,
   "metadata": {},
   "outputs": [
    {
     "name": "stdout",
     "output_type": "stream",
     "text": [
      "(506L, 14L)\n",
      "[[6.3200e-03 1.8000e+01 2.3100e+00 ... 3.9690e+02 4.9800e+00 1.0000e+00]\n",
      " [2.7310e-02 0.0000e+00 7.0700e+00 ... 3.9690e+02 9.1400e+00 1.0000e+00]\n",
      " [2.7290e-02 0.0000e+00 7.0700e+00 ... 3.9283e+02 4.0300e+00 1.0000e+00]\n",
      " ...\n",
      " [6.0760e-02 0.0000e+00 1.1930e+01 ... 3.9690e+02 5.6400e+00 1.0000e+00]\n",
      " [1.0959e-01 0.0000e+00 1.1930e+01 ... 3.9345e+02 6.4800e+00 1.0000e+00]\n",
      " [4.7410e-02 0.0000e+00 1.1930e+01 ... 3.9690e+02 7.8800e+00 1.0000e+00]]\n"
     ]
    }
   ],
   "source": [
    "(data,target) = load_boston(return_X_y=True)\n",
    "\n",
    "ones = np.ones((506,14))\n",
    "print(ones.shape)\n",
    "for i in range(0,506):\n",
    "    for j in range(0,13):\n",
    "        ones[i,j] = data[i,j]\n",
    "data = ones\n",
    "print(data)"
   ]
  },
  {
   "cell_type": "code",
   "execution_count": 136,
   "metadata": {},
   "outputs": [],
   "source": [
    "# split into train and test\n",
    "# initial testing and train without cross validation\n",
    "training_data = data[0:400]\n",
    "training_labels = target[0:400]\n",
    "testing_data = data[400:507]\n",
    "testing_labbels = data[400:507]\n",
    "\n"
   ]
  },
  {
   "cell_type": "code",
   "execution_count": 137,
   "metadata": {},
   "outputs": [],
   "source": [
    "#print(data.T)\n",
    "def LSRegression(new_data,training_labels):\n",
    "    multi = np.matmul(new_data.T,new_data)\n",
    "    multi_inv = inv(multi)\n",
    "    multi_2 = np.matmul(multi_inv,new_data.T)\n",
    "    final = np.matmul(multi_2,training_labels)\n",
    "    y_hat = np.matmul(new_data,final)\n",
    "    #print(y_hat.shape)\n",
    "    #print(y_hat)\n",
    "    return(y_hat)\n",
    "\n",
    "    \n",
    "    "
   ]
  },
  {
   "cell_type": "code",
   "execution_count": 138,
   "metadata": {},
   "outputs": [],
   "source": [
    "def LSError(actual,predicted):\n",
    "    error = np.linalg.norm(actual-predicted,2)\n",
    "    return error\n"
   ]
  },
  {
   "cell_type": "code",
   "execution_count": 139,
   "metadata": {},
   "outputs": [
    {
     "name": "stdout",
     "output_type": "stream",
     "text": [
      "94.45681676652765\n"
     ]
    }
   ],
   "source": [
    "print(LSError(training_labels,LSRegression(training_data,training_labels)))"
   ]
  },
  {
   "cell_type": "code",
   "execution_count": 140,
   "metadata": {},
   "outputs": [
    {
     "name": "stdout",
     "output_type": "stream",
     "text": [
      "('LS error ', 99.66915725673414)\n",
      "('LS error ', 94.91068410032413)\n",
      "('LS error ', 92.63235006704716)\n",
      "('LS error ', 72.32958596677354)\n",
      "('LS error ', 95.9612509511673)\n",
      "('Average error is', 91.10060566840926)\n"
     ]
    },
    {
     "data": {
      "image/png": "[encoded data removed]",
      "text/plain": [
       "<matplotlib.figure.Figure at 0xc03c630>"
      ]
     },
     "metadata": {},
     "output_type": "display_data"
    }
   ],
   "source": [
    "# CROSS VALIDATION SPLIT\n",
    "import random\n",
    "# create a split\n",
    "split_labels = np.array_split(target,5)\n",
    "#print(split_labels[1].shape)\n",
    "\n",
    "split = np.array_split(data, 5)\n",
    "sum_error = 0\n",
    "# take one as test and the rest take as training\n",
    "for i in range(5):\n",
    "    training_data_cv = []\n",
    "    test_data_cv = split[i]\n",
    "    training_labels_cv = []\n",
    "    test_labels_cv = split_labels[i]\n",
    "    \n",
    "    for j in range(5):\n",
    "        if j!=i:\n",
    "            training_data_cv.extend(split[j].tolist())\n",
    "            training_labels_cv.extend(split_labels[j].tolist())\n",
    "    training_data_cv = np.asarray(training_data_cv)\n",
    "    training_labels_cv = np.asarray(training_labels_cv)\n",
    "    #print(training_labels_cv.shape)\n",
    "    # now that we have train and test data we have to call our LS Error from this\n",
    "    \n",
    "    print(\"LS error \", LSError(training_labels_cv,LSRegression(training_data_cv,training_labels_cv)))\n",
    "    sum_error = sum_error + LSError(training_labels_cv,LSRegression(training_data_cv,training_labels_cv))\n",
    "\n",
    "    plt.plot(training_labels_cv,LSRegression(training_data_cv,training_labels_cv),'ro')\n",
    "    plt.xlabel('Actual')\n",
    "    plt.ylabel('Predicted')\n",
    "\n",
    "    #Line with slope=1\n",
    "    x = np.linspace(-2,12,100)\n",
    "    y = x\n",
    "    plt.plot(x,y)\n",
    "\n",
    "print(\"Average error is\", sum_error/5)"
   ]
  },
  {
   "cell_type": "code",
   "execution_count": 141,
   "metadata": {},
   "outputs": [],
   "source": [
    "# RIDGE REGRESSION\n",
    "def RR(training_data,training_labels,reg):\n",
    "    rdg = LSRegression(training_data,training_labels)/(1+reg)\n",
    "    return rdg\n",
    "\n",
    "def RError(actual,predicted):\n",
    "    error = np.linalg.norm(actual-predicted,2)\n",
    "    return error\n",
    "\n",
    "\n",
    "\n"
   ]
  },
  {
   "cell_type": "code",
   "execution_count": 142,
   "metadata": {},
   "outputs": [
    {
     "name": "stdout",
     "output_type": "stream",
     "text": [
      "('LS error ', 262.0694434328454)\n",
      "('LS error ', 253.5828138247881)\n",
      "('LS error ', 238.8299587765636)\n",
      "('LS error ', 257.8323132475563)\n",
      "('LS error ', 273.123779197428)\n",
      "('Average error is', 257.08766169583623)\n"
     ]
    }
   ],
   "source": [
    "# CROSS VALIDATION SPLIT\n",
    "import random\n",
    "# create a split\n",
    "split_labels = np.array_split(target,5)\n",
    "#print(split_labels[1].shape)\n",
    "\n",
    "split = np.array_split(data, 5)\n",
    "sum_error = 0\n",
    "# take one as test and the rest take as training\n",
    "for i in range(5):\n",
    "    training_data_cv = []\n",
    "    test_data_cv = split[i]\n",
    "    training_labels_cv = []\n",
    "    test_labels_cv = split_labels[i]\n",
    "    \n",
    "    for j in range(5):\n",
    "        if j!=i:\n",
    "            training_data_cv.extend(split[j].tolist())\n",
    "            training_labels_cv.extend(split_labels[j].tolist())\n",
    "    training_data_cv = np.asarray(training_data_cv)\n",
    "    training_labels_cv = np.asarray(training_labels_cv)\n",
    "    #print(training_labels_cv.shape)\n",
    "    # now that we have train and test data we have to call our LS Error from this\n",
    "    \n",
    "    print(\"LS error \", RError(training_labels_cv,RR(training_data_cv,training_labels_cv,1)))\n",
    "    sum_error = sum_error + RError(training_labels_cv,RR(training_data_cv,training_labels_cv,1))\n",
    "\n",
    "\n",
    "print(\"Average error is\", sum_error/5)"
   ]
  },
  {
   "cell_type": "code",
   "execution_count": null,
   "metadata": {},
   "outputs": [],
   "source": []
  },
  {
   "cell_type": "code",
   "execution_count": null,
   "metadata": {},
   "outputs": [],
   "source": []
  },
  {
   "cell_type": "code",
   "execution_count": null,
   "metadata": {},
   "outputs": [],
   "source": []
  }
 ],
 "metadata": {
  "kernelspec": {
   "display_name": "Python 2",
   "language": "python",
   "name": "python2"
  },
  "language_info": {
   "codemirror_mode": {
    "name": "ipython",
    "version": 2
   },
   "file_extension": ".py",
   "mimetype": "text/x-python",
   "name": "python",
   "nbconvert_exporter": "python",
   "pygments_lexer": "ipython2",
   "version": "2.7.14"
  }
 },
 "nbformat": 4,
 "nbformat_minor": 2
}
